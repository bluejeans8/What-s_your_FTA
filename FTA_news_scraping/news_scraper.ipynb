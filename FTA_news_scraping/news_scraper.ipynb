{
 "cells": [
  {
   "cell_type": "code",
   "execution_count": 1,
   "metadata": {},
   "outputs": [],
   "source": [
    "import pandas as pd\n",
    "import numpy as np\n",
    "import selenium\n",
    "from selenium import webdriver\n",
    "import chromedriver_autoinstaller\n",
    "import requests\n",
    "import time\n",
    "import re"
   ]
  },
  {
   "cell_type": "code",
   "execution_count": 4,
   "metadata": {},
   "outputs": [],
   "source": [
    "class Driver:\n",
    "    @staticmethod\n",
    "    def driver_init():\n",
    "        chromedriver_autoinstaller.install()\n",
    "        options = webdriver.ChromeOptions()\n",
    "        #options.add_argument('headless') # jupyter notebook 환경에서 주석처리\n",
    "        options.add_argument('lang=ko_KR')\n",
    "        options.add_argument(\"user-agent=Mozilla/5.0 (Windows NT 10.0; Win64; x64) AppleWebKit/537.36 (KHTML, like Gecko) Chrome/104.0.0.0 Safari/537.36\")\n",
    "        options.add_argument('--no-sandbox')\n",
    "        options.add_argument('--disable-notifications')\n",
    "        options.add_argument('--disable-popup-blocking')\n",
    "        options.add_argument('--disable-dev-shm-usage')\n",
    "        options.add_argument('--disable-browser-side-navigation')\n",
    "        options.add_argument('disable-gpu')\n",
    "\n",
    "        driver = webdriver.Chrome(options=options)\n",
    "        driver.implicitly_wait(10)\n",
    "        driver.set_window_size(1600, 1100)\n",
    "\n",
    "        return driver"
   ]
  },
  {
   "cell_type": "code",
   "execution_count": 9,
   "metadata": {},
   "outputs": [
    {
     "name": "stderr",
     "output_type": "stream",
     "text": [
      "WARNING:root:Can not find chromedriver for currently installed chrome version.\n"
     ]
    }
   ],
   "source": [
    "driver = Driver.driver_init()\n",
    "article_list = []\n",
    "driver.get('https://policy.trade.ec.europa.eu/news_en?f%5B0%5D=trade_topics_trade_topics%3A104')\n",
    "while True:\n",
    "    current_url = driver.current_url\n",
    "    articles = driver.find_elements('xpath', '//div[@class=\"ecl-content-block ecl-content-item__content-block\"]//a')\n",
    "    article_urls = [i.get_attribute('href') for i in articles]\n",
    "    article_list.extend(article_urls)\n",
    "    try:\n",
    "        next = driver.find_element('xpath', '//ul[@class=\"ecl-pagination__list\"]/li[@class=\"ecl-pagination__item ecl-pagination__item--next\"]/a')\n",
    "        next_url = next.get_attribute('href')\n",
    "        driver.get(next_url)\n",
    "    except:\n",
    "        break\n"
   ]
  },
  {
   "cell_type": "code",
   "execution_count": 10,
   "metadata": {},
   "outputs": [
    {
     "data": {
      "text/plain": [
       "97"
      ]
     },
     "execution_count": 10,
     "metadata": {},
     "output_type": "execute_result"
    }
   ],
   "source": [
    "len(article_list)"
   ]
  },
  {
   "cell_type": "code",
   "execution_count": 19,
   "metadata": {},
   "outputs": [],
   "source": [
    "for idx, article in enumerate(article_list):\n",
    "    driver.get(article)\n",
    "    current_url = driver.current_url\n",
    "    if 'ted' in current_url:\n",
    "        continue\n",
    "    date = driver.find_element('xpath', '//div[@class=\"ecl-page-header__meta\"]//span[2]').get_attribute('innerText')\n",
    "    title = driver.find_element('xpath', '//div[contains(@class, \"ecl-page-header__title\")]//h1').get_attribute('innerText')\n",
    "    #header_desc = driver.find_element('xpath', '//div[@class=\"ecl-page-header__description-container\"]/p').get_attribute('innerText')\n",
    "    try:\n",
    "        main = driver.find_element('xpath', '//div[@id=\"block-ewcms-theme-main-page-content\"]/article/div').get_attribute('innerText')\n",
    "    except:\n",
    "        main = driver.find_element('xpath', '//div[@class=\"ecl-paragraph\"]').get_attribute('innerText')\n",
    "    file_name = f'EU_commission_{idx}.txt'\n",
    "\n",
    "    with open(file_name, 'w', encoding = 'utf-8') as file:\n",
    "        file.write('<Date>' + '\\n')\n",
    "        file.write(date + '\\n')\n",
    "        file.write('<Title>' + '\\n')\n",
    "        file.write(title + '\\n')\n",
    "        file.write('<Content>' + '\\n')\n",
    "        #file.write(header_desc + '\\n')\n",
    "        file.write(main)\n"
   ]
  }
 ],
 "metadata": {
  "kernelspec": {
   "display_name": "Python 3",
   "language": "python",
   "name": "python3"
  },
  "language_info": {
   "codemirror_mode": {
    "name": "ipython",
    "version": 3
   },
   "file_extension": ".py",
   "mimetype": "text/x-python",
   "name": "python",
   "nbconvert_exporter": "python",
   "pygments_lexer": "ipython3",
   "version": "3.11.4"
  }
 },
 "nbformat": 4,
 "nbformat_minor": 2
}
