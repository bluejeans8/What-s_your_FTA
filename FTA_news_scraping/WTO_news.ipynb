{
 "cells": [
  {
   "cell_type": "code",
   "execution_count": 1,
   "metadata": {},
   "outputs": [],
   "source": [
    "import pandas as pd\n",
    "import numpy as np\n",
    "import selenium\n",
    "from selenium import webdriver\n",
    "import chromedriver_autoinstaller\n",
    "import requests\n",
    "import time\n",
    "import re\n",
    "from datetime import datetime"
   ]
  },
  {
   "cell_type": "code",
   "execution_count": 2,
   "metadata": {},
   "outputs": [],
   "source": [
    "class Driver:\n",
    "    @staticmethod\n",
    "    def driver_init():\n",
    "        chromedriver_autoinstaller.install()\n",
    "        options = webdriver.ChromeOptions()\n",
    "        #options.add_argument('headless') # jupyter notebook 환경에서 주석처리\n",
    "        options.add_argument('lang=ko_KR')\n",
    "        options.add_argument(\"user-agent=Mozilla/5.0 (Windows NT 10.0; Win64; x64) AppleWebKit/537.36 (KHTML, like Gecko) Chrome/104.0.0.0 Safari/537.36\")\n",
    "        options.add_argument('--no-sandbox')\n",
    "        options.add_argument('--disable-notifications')\n",
    "        options.add_argument('--disable-popup-blocking')\n",
    "        options.add_argument('--disable-dev-shm-usage')\n",
    "        options.add_argument('--disable-browser-side-navigation')\n",
    "        options.add_argument('disable-gpu')\n",
    "\n",
    "        driver = webdriver.Chrome(options=options)\n",
    "        driver.implicitly_wait(10)\n",
    "        driver.set_window_size(1600, 1100)\n",
    "\n",
    "        return driver"
   ]
  },
  {
   "cell_type": "code",
   "execution_count": 3,
   "metadata": {},
   "outputs": [
    {
     "name": "stderr",
     "output_type": "stream",
     "text": [
      "WARNING:root:Can not find chromedriver for currently installed chrome version.\n"
     ]
    }
   ],
   "source": [
    "driver = Driver.driver_init()\n",
    "article_list = []\n",
    "date_list = []\n",
    "driver.get('https://www.wto.org/english/news_e/news23_e/news23_e.htm')\n",
    "while True:\n",
    "    max_height = driver.execute_script('return document.body.scrollHeight')\n",
    "    max_try = max_height//900\n",
    "    y_location = 0\n",
    "    for m in range(max_try):\n",
    "        y_location+=900\n",
    "        time.sleep(1)\n",
    "        driver.execute_script(f\"window.scrollTo(0, {y_location})\")\n",
    "    articles = driver.find_elements('xpath', '//div[@class=\"centerCol\"]/div/div[2]/ul/li/a[contains(., \"Press release\") or contains(., \"News items\")]')\n",
    "    article_urls = [i.get_attribute('href') for i in articles]\n",
    "    article_list.extend(article_urls)\n",
    "    break"
   ]
  },
  {
   "cell_type": "code",
   "execution_count": null,
   "metadata": {},
   "outputs": [],
   "source": [
    "for idx, article in enumerate(article_list):\n",
    "    driver.get(article)\n",
    "    date_element = driver.find_element('xpath', '//div[@class=\"introTextDiv\"]/p[1]').get_attribute('innerText')\n",
    "    date_element = date_element.replace('\\xa0', '-')\n",
    "    date_format = \"%d-%B-%Y\"\n",
    "    parsed_date = datetime.strptime(date_element, date_format)\n",
    "    date = parsed_date.strftime(\"%B, %d, %Y\")\n",
    "    title = driver.find_element('xpath', '//div[@class=\"introTextDiv\"]/h1').get_attribute('innerText')\n",
    "    main_1 = driver.find_element('xpath', '//div[@class=\"introTextDiv\"]/p[@class=\"paralargetext\"][1]').get_attribute('innerText')\n",
    "    main_2 = driver.find_element('xpath', '//div[@class=\"mainDiv\"]/div[@class=\"centerCol\"]').get_attribute('innerText')\n",
    "\n",
    "    file_name = f'WTO_news_{idx}.txt'\n",
    "\n",
    "    with open(file_name, 'w', encoding = 'utf-8') as file:\n",
    "        file.write('<Date>' + '\\n')\n",
    "        file.write(date + '\\n')\n",
    "        file.write('<Title>' + '\\n')\n",
    "        file.write(title + '\\n')\n",
    "        file.write('<Content>' + '\\n')\n",
    "        #file.write(header_desc + '\\n')\n",
    "        file.write(main_1 + '\\n')\n",
    "        file.write(main_2)"
   ]
  }
 ],
 "metadata": {
  "kernelspec": {
   "display_name": "Python 3",
   "language": "python",
   "name": "python3"
  },
  "language_info": {
   "codemirror_mode": {
    "name": "ipython",
    "version": 3
   },
   "file_extension": ".py",
   "mimetype": "text/x-python",
   "name": "python",
   "nbconvert_exporter": "python",
   "pygments_lexer": "ipython3",
   "version": "3.11.4"
  }
 },
 "nbformat": 4,
 "nbformat_minor": 2
}
