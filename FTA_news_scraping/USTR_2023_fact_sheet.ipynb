{
 "cells": [
  {
   "cell_type": "code",
   "execution_count": 14,
   "metadata": {},
   "outputs": [],
   "source": [
    "import pandas as pd\n",
    "import numpy as np\n",
    "import selenium\n",
    "from selenium import webdriver\n",
    "import chromedriver_autoinstaller\n",
    "import requests\n",
    "import time\n",
    "import re\n",
    "from datetime import datetime"
   ]
  },
  {
   "cell_type": "code",
   "execution_count": 2,
   "metadata": {},
   "outputs": [],
   "source": [
    "class Driver:\n",
    "    @staticmethod\n",
    "    def driver_init():\n",
    "        chromedriver_autoinstaller.install()\n",
    "        options = webdriver.ChromeOptions()\n",
    "        #options.add_argument('headless') # jupyter notebook 환경에서 주석처리\n",
    "        options.add_argument('lang=ko_KR')\n",
    "        options.add_argument(\"user-agent=Mozilla/5.0 (Windows NT 10.0; Win64; x64) AppleWebKit/537.36 (KHTML, like Gecko) Chrome/104.0.0.0 Safari/537.36\")\n",
    "        options.add_argument('--no-sandbox')\n",
    "        options.add_argument('--disable-notifications')\n",
    "        options.add_argument('--disable-popup-blocking')\n",
    "        options.add_argument('--disable-dev-shm-usage')\n",
    "        options.add_argument('--disable-browser-side-navigation')\n",
    "        options.add_argument('disable-gpu')\n",
    "\n",
    "        driver = webdriver.Chrome(options=options)\n",
    "        driver.implicitly_wait(10)\n",
    "        driver.set_window_size(1600, 1100)\n",
    "\n",
    "        return driver"
   ]
  },
  {
   "cell_type": "code",
   "execution_count": 11,
   "metadata": {},
   "outputs": [
    {
     "name": "stderr",
     "output_type": "stream",
     "text": [
      "WARNING:root:Can not find chromedriver for currently installed chrome version.\n"
     ]
    }
   ],
   "source": [
    "driver = Driver.driver_init()\n",
    "article_list = []\n",
    "date_list = []\n",
    "driver.get('https://ustr.gov/about-us/policy-offices/press-office/fact-sheets/2023')\n",
    "while True:\n",
    "    max_height = driver.execute_script('return document.body.scrollHeight')\n",
    "    max_try = max_height//900\n",
    "    y_location = 0\n",
    "    for m in range(max_try):\n",
    "        y_location+=900\n",
    "        time.sleep(1)\n",
    "        driver.execute_script(f\"window.scrollTo(0, {y_location})\")\n",
    "    articles = driver.find_elements('xpath', '//ul[@class=\"listing\"]/li/a')\n",
    "    dates = driver.find_elements('xpath', '//ul[@class=\"listing\"]/li')\n",
    "    article_urls = [i.get_attribute('href') for i in articles]\n",
    "    date_elements = [i.get_attribute('innerText').split(\"\\n\")[0] for i in dates]\n",
    "    article_list.extend(article_urls)\n",
    "    date_list.extend(date_elements)\n",
    "    break"
   ]
  },
  {
   "cell_type": "code",
   "execution_count": 13,
   "metadata": {},
   "outputs": [
    {
     "data": {
      "text/plain": [
       "['2023-11-17',\n",
       " '2023-09-29',\n",
       " '2023-09-26',\n",
       " '2023-05-31',\n",
       " '2023-04-19',\n",
       " '2023-04-13',\n",
       " '2023-03-27',\n",
       " '2023-03-15',\n",
       " '2023-03-01',\n",
       " '2023-01-27']"
      ]
     },
     "execution_count": 13,
     "metadata": {},
     "output_type": "execute_result"
    }
   ],
   "source": [
    "len(article_list)\n",
    "date_list"
   ]
  },
  {
   "cell_type": "code",
   "execution_count": 15,
   "metadata": {},
   "outputs": [],
   "source": [
    "for idx, article in enumerate(article_list):\n",
    "    driver.get(article)\n",
    "\n",
    "    date_element = date_list[0]\n",
    "    date_format = \"%Y-%m-%d\"\n",
    "    parsed_date = datetime.strptime(date_element, date_format)\n",
    "    date = parsed_date.strftime(\"%B, %d, %Y\")\n",
    "    title = driver.find_element('xpath', '//h1[@class=\"pageTitle\"]/span').get_attribute('innerText')\n",
    "    main = driver.find_element('xpath', '//article[@role=\"article\"]').get_attribute('innerText')\n",
    "\n",
    "    file_name = f'USTR_press_release_{idx}.txt'\n",
    "\n",
    "    with open(file_name, 'w', encoding = 'utf-8') as file:\n",
    "        file.write('<Date>' + '\\n')\n",
    "        file.write(date + '\\n')\n",
    "        file.write('<Title>' + '\\n')\n",
    "        file.write(title + '\\n')\n",
    "        file.write('<Content>' + '\\n')\n",
    "        #file.write(header_desc + '\\n')\n",
    "        file.write(main)"
   ]
  }
 ],
 "metadata": {
  "kernelspec": {
   "display_name": "Python 3",
   "language": "python",
   "name": "python3"
  },
  "language_info": {
   "codemirror_mode": {
    "name": "ipython",
    "version": 3
   },
   "file_extension": ".py",
   "mimetype": "text/x-python",
   "name": "python",
   "nbconvert_exporter": "python",
   "pygments_lexer": "ipython3",
   "version": "3.11.4"
  }
 },
 "nbformat": 4,
 "nbformat_minor": 2
}
